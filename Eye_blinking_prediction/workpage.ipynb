{
  "nbformat": 4,
  "nbformat_minor": 0,
  "metadata": {
    "kernelspec": {
      "display_name": "Python 3",
      "language": "python",
      "name": "python3"
    },
    "language_info": {
      "codemirror_mode": {
        "name": "ipython",
        "version": 3
      },
      "file_extension": ".py",
      "mimetype": "text/x-python",
      "name": "python",
      "nbconvert_exporter": "python",
      "pygments_lexer": "ipython3",
      "version": "3.7.3"
    },
    "colab": {
      "name": "Eye_blinking_prediction (1).ipynb",
      "provenance": [],
      "include_colab_link": true
    }
  },
  "cells": [
    {
      "cell_type": "markdown",
      "metadata": {
        "id": "view-in-github",
        "colab_type": "text"
      },
      "source": [
        "<a href=\"https://colab.research.google.com/github/killianraes/Machine_Learning_course_UGent_D012554_kaggle/blob/master/Eye_blinking_prediction/workpage.ipynb\" target=\"_parent\"><img src=\"https://colab.research.google.com/assets/colab-badge.svg\" alt=\"Open In Colab\"/></a>"
      ]
    },
    {
      "cell_type": "code",
      "metadata": {
        "id": "52xHOyHDXxao",
        "colab_type": "code",
        "colab": {}
      },
      "source": [
        "%matplotlib inline\n",
        "import pandas as pd"
      ],
      "execution_count": 0,
      "outputs": []
    },
    {
      "cell_type": "markdown",
      "metadata": {
        "id": "goRLnuyRXxaw",
        "colab_type": "text"
      },
      "source": [
        "\n",
        "<img src=\"https://raw.githubusercontent.com/sdgroeve/Machine_Learning_course_UGent_D012554_kaggle/master/header.png\" alt=\"drawing\"/>\n"
      ]
    },
    {
      "cell_type": "markdown",
      "metadata": {
        "id": "tsJ4TbSlXxax",
        "colab_type": "text"
      },
      "source": [
        "A multi-channel electroencephalography (EEG) system enables a broad range of applications including neurotherapy, biofeedback, and brain computer interfacing. The dataset you will analyse is created with the [Emotiv EPOC+](https://www.emotiv.com/product/emotiv-epoc-14-channel-mobile-eeg).  \n",
        "\n",
        "It has 14 EEG channels with names based on the International 10-20 locations: AF3, F7, F3, FC5, T7, P7, O1, O2, P8, T8, FC6, F4, F8, AF4:\n",
        "\n",
        "<br/>\n",
        "<br/>\n",
        "<center>\n",
        "<img src=\"https://raw.githubusercontent.com/sdgroeve/Machine_Learning_course_UGent_D012554_kaggle/master/EEG.png\" alt=\"drawing\" width=\"200\"/>\n",
        "<center/>\n",
        "<br/>\n",
        "<br/>\n"
      ]
    },
    {
      "cell_type": "markdown",
      "metadata": {
        "id": "HzXBqhLUfxyh",
        "colab_type": "text"
      },
      "source": [
        "All data is from one continuous EEG measurement with the Emotiv EEG Neuroheadset. \n",
        "\n",
        "The experiment was conducted on one person only. The duration of the measurement was around 117 seconds.\n",
        "\n",
        "From the paper:\n",
        "\n",
        "> *The experiment was carried out in a quiet room. During\n",
        "the experiment, the proband was being videotaped. To prevent\n",
        "artifacts, the proband was not aware of the exact start time\n",
        "of the measurement. Instead, he was told to sit relaxed, look\n",
        "straight to the camera, and change the eye state at free will.\n",
        "Only additional constraint was that, accumulated over the\n",
        "entire session, the duration of both eye states should be about\n",
        "the same and that the individual intervals should vary greatly\n",
        "in length (from eye blinking to longer stretches)...*\n",
        "\n",
        "The eye state was detected via a camera during the EEG measurement and later added manually to the file after analyzing the video frames. \n",
        "\n",
        "A label '1' indicates the eye-closed and '0' the eye-open state.\n",
        "\n",
        "(*Source: Oliver Roesler, Stuttgart, Germany*)"
      ]
    },
    {
      "cell_type": "markdown",
      "metadata": {
        "id": "1rHopvjFXxay",
        "colab_type": "text"
      },
      "source": [
        "Let's load the train and test set:"
      ]
    },
    {
      "cell_type": "code",
      "metadata": {
        "id": "aw7NaXHYXxaz",
        "colab_type": "code",
        "colab": {}
      },
      "source": [
        "trainset = pd.read_csv(\"https://raw.githubusercontent.com/sdgroeve/Machine_Learning_course_UGent_D012554_kaggle/master/eeg_train.csv\")\n",
        "\n",
        "testset = pd.read_csv(\"https://raw.githubusercontent.com/sdgroeve/Machine_Learning_course_UGent_D012554_kaggle/master/eeg_test.csv\")\n",
        "\n",
        "sample_submission = pd.read_csv(\"https://raw.githubusercontent.com/sdgroeve/Machine_Learning_course_UGent_D012554_kaggle/master/sample_submission.csv\")\n"
      ],
      "execution_count": 0,
      "outputs": []
    },
    {
      "cell_type": "markdown",
      "metadata": {
        "id": "Xa4COLVgY48t",
        "colab_type": "text"
      },
      "source": [
        "You will fit a model on the trainset and make predictions on the testset. \n",
        "\n",
        "To submit these predictions to Kaggle you need to write a .csv file with two columns: \n",
        "- `index` that matches the `index` column in the test set.\n",
        "- `label` which is your prediction.\n",
        "\n",
        "Here is an example predictions file for Kaggle:"
      ]
    },
    {
      "cell_type": "code",
      "metadata": {
        "id": "G2Xcd8tvkEqA",
        "colab_type": "code",
        "outputId": "f7c13e60-94c6-42d9-dda6-893bce9a753e",
        "colab": {
          "base_uri": "https://localhost:8080/",
          "height": 359
        }
      },
      "source": [
        "sample_submission.head(10)"
      ],
      "execution_count": 17,
      "outputs": [
        {
          "output_type": "execute_result",
          "data": {
            "text/html": [
              "<div>\n",
              "<style scoped>\n",
              "    .dataframe tbody tr th:only-of-type {\n",
              "        vertical-align: middle;\n",
              "    }\n",
              "\n",
              "    .dataframe tbody tr th {\n",
              "        vertical-align: top;\n",
              "    }\n",
              "\n",
              "    .dataframe thead th {\n",
              "        text-align: right;\n",
              "    }\n",
              "</style>\n",
              "<table border=\"1\" class=\"dataframe\">\n",
              "  <thead>\n",
              "    <tr style=\"text-align: right;\">\n",
              "      <th></th>\n",
              "      <th>index</th>\n",
              "      <th>label</th>\n",
              "    </tr>\n",
              "  </thead>\n",
              "  <tbody>\n",
              "    <tr>\n",
              "      <th>0</th>\n",
              "      <td>0</td>\n",
              "      <td>0.168801</td>\n",
              "    </tr>\n",
              "    <tr>\n",
              "      <th>1</th>\n",
              "      <td>1</td>\n",
              "      <td>0.124169</td>\n",
              "    </tr>\n",
              "    <tr>\n",
              "      <th>2</th>\n",
              "      <td>2</td>\n",
              "      <td>0.947757</td>\n",
              "    </tr>\n",
              "    <tr>\n",
              "      <th>3</th>\n",
              "      <td>3</td>\n",
              "      <td>0.069585</td>\n",
              "    </tr>\n",
              "    <tr>\n",
              "      <th>4</th>\n",
              "      <td>4</td>\n",
              "      <td>0.635325</td>\n",
              "    </tr>\n",
              "    <tr>\n",
              "      <th>5</th>\n",
              "      <td>5</td>\n",
              "      <td>0.659027</td>\n",
              "    </tr>\n",
              "    <tr>\n",
              "      <th>6</th>\n",
              "      <td>6</td>\n",
              "      <td>0.653697</td>\n",
              "    </tr>\n",
              "    <tr>\n",
              "      <th>7</th>\n",
              "      <td>7</td>\n",
              "      <td>0.850030</td>\n",
              "    </tr>\n",
              "    <tr>\n",
              "      <th>8</th>\n",
              "      <td>8</td>\n",
              "      <td>0.160489</td>\n",
              "    </tr>\n",
              "    <tr>\n",
              "      <th>9</th>\n",
              "      <td>9</td>\n",
              "      <td>0.843272</td>\n",
              "    </tr>\n",
              "  </tbody>\n",
              "</table>\n",
              "</div>"
            ],
            "text/plain": [
              "   index     label\n",
              "0      0  0.168801\n",
              "1      1  0.124169\n",
              "2      2  0.947757\n",
              "3      3  0.069585\n",
              "4      4  0.635325\n",
              "5      5  0.659027\n",
              "6      6  0.653697\n",
              "7      7  0.850030\n",
              "8      8  0.160489\n",
              "9      9  0.843272"
            ]
          },
          "metadata": {
            "tags": []
          },
          "execution_count": 17
        }
      ]
    },
    {
      "cell_type": "code",
      "metadata": {
        "id": "hosXdHJ3fkTx",
        "colab_type": "code",
        "colab": {}
      },
      "source": [
        "#Make copy's of data, in case something goes wrong\n",
        "data_train = trainset.copy()\n",
        "data_test = testset.copy()"
      ],
      "execution_count": 0,
      "outputs": []
    },
    {
      "cell_type": "code",
      "metadata": {
        "id": "Wu0Lqb7nfvq1",
        "colab_type": "code",
        "outputId": "40d444a1-6d37-4617-ef22-0650a26d8643",
        "colab": {
          "base_uri": "https://localhost:8080/",
          "height": 391
        }
      },
      "source": [
        "#Study training data\n",
        "print(data_train.head())\n",
        "print(data_train.describe())\n",
        "print(data_train.label.value_counts())"
      ],
      "execution_count": 19,
      "outputs": [
        {
          "output_type": "stream",
          "text": [
            "       AF3       F7       F3      FC5  ...       F4       F8      AF4  label\n",
            "0  4299.49  3997.44  4277.95  4116.92  ...  4278.97  4600.00  4369.23      1\n",
            "1  4302.05  3985.64  4261.03  4129.74  ...  4283.08  4607.18  4358.46      0\n",
            "2  4321.03  4015.90  4265.13  4122.56  ...  4286.15  4608.21  4371.79      0\n",
            "3  4408.21  4104.10  4380.00  4232.31  ...  4388.21  4715.90  4464.10      0\n",
            "4  4347.18  3975.38  4266.67  4102.56  ...  4313.33  4664.10  4411.79      1\n",
            "\n",
            "[5 rows x 15 columns]\n",
            "               AF3           F7  ...          AF4        label\n",
            "count  2000.000000  2000.000000  ...  2000.000000  2000.000000\n",
            "mean   4300.157125  4009.273150  ...  4359.852780     0.450500\n",
            "std      36.361719    29.853264  ...    37.074555     0.497668\n",
            "min    4197.950000  3905.640000  ...  4225.640000     0.000000\n",
            "25%    4280.510000  3990.770000  ...  4342.050000     0.000000\n",
            "50%    4293.330000  4006.150000  ...  4354.360000     0.000000\n",
            "75%    4309.740000  4023.590000  ...  4371.790000     1.000000\n",
            "max    4497.440000  4152.820000  ...  4538.970000     1.000000\n",
            "\n",
            "[8 rows x 15 columns]\n",
            "0    1099\n",
            "1     901\n",
            "Name: label, dtype: int64\n"
          ],
          "name": "stdout"
        }
      ]
    },
    {
      "cell_type": "code",
      "metadata": {
        "id": "TIBIVzqFgbof",
        "colab_type": "code",
        "outputId": "6e4696d5-7a13-4ea0-841c-da5944e721cd",
        "colab": {
          "base_uri": "https://localhost:8080/",
          "height": 224
        }
      },
      "source": [
        "#Preprocess training data\n",
        "from sklearn.preprocessing import StandardScaler\n",
        "\n",
        "X_train = data_train.copy()\n",
        "y_train = X_train.pop('label')\n",
        "\n",
        "feature_scaler = StandardScaler()\n",
        "feature_scaler.fit(X_train)\n",
        "\n",
        "X_train = pd.DataFrame(feature_scaler.transform(X_train))\n",
        "X_train.columns = data_train.columns[:-1]\n",
        "\n",
        "X_train.head()\n"
      ],
      "execution_count": 20,
      "outputs": [
        {
          "output_type": "execute_result",
          "data": {
            "text/html": [
              "<div>\n",
              "<style scoped>\n",
              "    .dataframe tbody tr th:only-of-type {\n",
              "        vertical-align: middle;\n",
              "    }\n",
              "\n",
              "    .dataframe tbody tr th {\n",
              "        vertical-align: top;\n",
              "    }\n",
              "\n",
              "    .dataframe thead th {\n",
              "        text-align: right;\n",
              "    }\n",
              "</style>\n",
              "<table border=\"1\" class=\"dataframe\">\n",
              "  <thead>\n",
              "    <tr style=\"text-align: right;\">\n",
              "      <th></th>\n",
              "      <th>AF3</th>\n",
              "      <th>F7</th>\n",
              "      <th>F3</th>\n",
              "      <th>FC5</th>\n",
              "      <th>T7</th>\n",
              "      <th>P7</th>\n",
              "      <th>O1</th>\n",
              "      <th>02</th>\n",
              "      <th>P8</th>\n",
              "      <th>T8</th>\n",
              "      <th>FC6</th>\n",
              "      <th>F4</th>\n",
              "      <th>F8</th>\n",
              "      <th>AF4</th>\n",
              "    </tr>\n",
              "  </thead>\n",
              "  <tbody>\n",
              "    <tr>\n",
              "      <th>0</th>\n",
              "      <td>-0.018351</td>\n",
              "      <td>-0.396476</td>\n",
              "      <td>0.677912</td>\n",
              "      <td>-0.277047</td>\n",
              "      <td>0.733699</td>\n",
              "      <td>0.167400</td>\n",
              "      <td>1.330668</td>\n",
              "      <td>0.454721</td>\n",
              "      <td>0.093570</td>\n",
              "      <td>-0.068336</td>\n",
              "      <td>0.418469</td>\n",
              "      <td>0.026714</td>\n",
              "      <td>-0.156365</td>\n",
              "      <td>0.252992</td>\n",
              "    </tr>\n",
              "    <tr>\n",
              "      <th>1</th>\n",
              "      <td>0.052070</td>\n",
              "      <td>-0.791842</td>\n",
              "      <td>-0.136210</td>\n",
              "      <td>0.346482</td>\n",
              "      <td>-0.434286</td>\n",
              "      <td>-0.259658</td>\n",
              "      <td>0.007585</td>\n",
              "      <td>-1.609301</td>\n",
              "      <td>-0.482085</td>\n",
              "      <td>-0.276922</td>\n",
              "      <td>-0.232997</td>\n",
              "      <td>0.235973</td>\n",
              "      <td>0.060820</td>\n",
              "      <td>-0.037576</td>\n",
              "    </tr>\n",
              "    <tr>\n",
              "      <th>2</th>\n",
              "      <td>0.574178</td>\n",
              "      <td>0.222036</td>\n",
              "      <td>0.061066</td>\n",
              "      <td>-0.002733</td>\n",
              "      <td>-0.496011</td>\n",
              "      <td>-0.373355</td>\n",
              "      <td>0.031954</td>\n",
              "      <td>-0.716795</td>\n",
              "      <td>-0.482085</td>\n",
              "      <td>-0.381214</td>\n",
              "      <td>-1.894254</td>\n",
              "      <td>0.392280</td>\n",
              "      <td>0.091976</td>\n",
              "      <td>0.322059</td>\n",
              "    </tr>\n",
              "    <tr>\n",
              "      <th>3</th>\n",
              "      <td>2.972354</td>\n",
              "      <td>3.177226</td>\n",
              "      <td>5.588146</td>\n",
              "      <td>5.335202</td>\n",
              "      <td>6.480134</td>\n",
              "      <td>7.221060</td>\n",
              "      <td>4.638614</td>\n",
              "      <td>6.311759</td>\n",
              "      <td>6.199439</td>\n",
              "      <td>6.193291</td>\n",
              "      <td>4.834001</td>\n",
              "      <td>5.588622</td>\n",
              "      <td>3.349453</td>\n",
              "      <td>2.812530</td>\n",
              "    </tr>\n",
              "    <tr>\n",
              "      <th>4</th>\n",
              "      <td>1.293521</td>\n",
              "      <td>-1.135609</td>\n",
              "      <td>0.135164</td>\n",
              "      <td>-0.975478</td>\n",
              "      <td>-0.496011</td>\n",
              "      <td>-0.117120</td>\n",
              "      <td>1.208346</td>\n",
              "      <td>-0.131037</td>\n",
              "      <td>0.554655</td>\n",
              "      <td>0.505527</td>\n",
              "      <td>1.911632</td>\n",
              "      <td>1.776139</td>\n",
              "      <td>1.782573</td>\n",
              "      <td>1.401236</td>\n",
              "    </tr>\n",
              "  </tbody>\n",
              "</table>\n",
              "</div>"
            ],
            "text/plain": [
              "        AF3        F7        F3  ...        F4        F8       AF4\n",
              "0 -0.018351 -0.396476  0.677912  ...  0.026714 -0.156365  0.252992\n",
              "1  0.052070 -0.791842 -0.136210  ...  0.235973  0.060820 -0.037576\n",
              "2  0.574178  0.222036  0.061066  ...  0.392280  0.091976  0.322059\n",
              "3  2.972354  3.177226  5.588146  ...  5.588622  3.349453  2.812530\n",
              "4  1.293521 -1.135609  0.135164  ...  1.776139  1.782573  1.401236\n",
              "\n",
              "[5 rows x 14 columns]"
            ]
          },
          "metadata": {
            "tags": []
          },
          "execution_count": 20
        }
      ]
    },
    {
      "cell_type": "code",
      "metadata": {
        "id": "M90G32xjiPyQ",
        "colab_type": "code",
        "outputId": "107cc141-d2a6-484f-bac8-cdd752cd6f95",
        "colab": {
          "base_uri": "https://localhost:8080/",
          "height": 224
        }
      },
      "source": [
        "#study test data\n",
        "data_test.head()"
      ],
      "execution_count": 21,
      "outputs": [
        {
          "output_type": "execute_result",
          "data": {
            "text/html": [
              "<div>\n",
              "<style scoped>\n",
              "    .dataframe tbody tr th:only-of-type {\n",
              "        vertical-align: middle;\n",
              "    }\n",
              "\n",
              "    .dataframe tbody tr th {\n",
              "        vertical-align: top;\n",
              "    }\n",
              "\n",
              "    .dataframe thead th {\n",
              "        text-align: right;\n",
              "    }\n",
              "</style>\n",
              "<table border=\"1\" class=\"dataframe\">\n",
              "  <thead>\n",
              "    <tr style=\"text-align: right;\">\n",
              "      <th></th>\n",
              "      <th>AF3</th>\n",
              "      <th>F7</th>\n",
              "      <th>F3</th>\n",
              "      <th>FC5</th>\n",
              "      <th>T7</th>\n",
              "      <th>P7</th>\n",
              "      <th>O1</th>\n",
              "      <th>02</th>\n",
              "      <th>P8</th>\n",
              "      <th>T8</th>\n",
              "      <th>FC6</th>\n",
              "      <th>F4</th>\n",
              "      <th>F8</th>\n",
              "      <th>AF4</th>\n",
              "      <th>index</th>\n",
              "    </tr>\n",
              "  </thead>\n",
              "  <tbody>\n",
              "    <tr>\n",
              "      <th>0</th>\n",
              "      <td>4296.41</td>\n",
              "      <td>4040.51</td>\n",
              "      <td>4253.33</td>\n",
              "      <td>4124.10</td>\n",
              "      <td>4341.54</td>\n",
              "      <td>4618.46</td>\n",
              "      <td>4075.38</td>\n",
              "      <td>4601.03</td>\n",
              "      <td>4183.59</td>\n",
              "      <td>4204.10</td>\n",
              "      <td>4197.44</td>\n",
              "      <td>4268.72</td>\n",
              "      <td>4598.46</td>\n",
              "      <td>4342.56</td>\n",
              "      <td>0</td>\n",
              "    </tr>\n",
              "    <tr>\n",
              "      <th>1</th>\n",
              "      <td>4291.28</td>\n",
              "      <td>3994.36</td>\n",
              "      <td>4247.18</td>\n",
              "      <td>4102.56</td>\n",
              "      <td>4328.21</td>\n",
              "      <td>4616.41</td>\n",
              "      <td>4057.44</td>\n",
              "      <td>4622.56</td>\n",
              "      <td>4198.46</td>\n",
              "      <td>4227.69</td>\n",
              "      <td>4190.77</td>\n",
              "      <td>4260.51</td>\n",
              "      <td>4593.33</td>\n",
              "      <td>4337.95</td>\n",
              "      <td>1</td>\n",
              "    </tr>\n",
              "    <tr>\n",
              "      <th>2</th>\n",
              "      <td>4299.49</td>\n",
              "      <td>4019.49</td>\n",
              "      <td>4269.74</td>\n",
              "      <td>4116.41</td>\n",
              "      <td>4344.10</td>\n",
              "      <td>4635.38</td>\n",
              "      <td>4067.18</td>\n",
              "      <td>4627.18</td>\n",
              "      <td>4211.28</td>\n",
              "      <td>4233.33</td>\n",
              "      <td>4202.56</td>\n",
              "      <td>4280.51</td>\n",
              "      <td>4596.92</td>\n",
              "      <td>4350.26</td>\n",
              "      <td>2</td>\n",
              "    </tr>\n",
              "    <tr>\n",
              "      <th>3</th>\n",
              "      <td>4280.00</td>\n",
              "      <td>4004.62</td>\n",
              "      <td>4263.59</td>\n",
              "      <td>4120.51</td>\n",
              "      <td>4323.59</td>\n",
              "      <td>4603.08</td>\n",
              "      <td>4040.51</td>\n",
              "      <td>4589.23</td>\n",
              "      <td>4174.87</td>\n",
              "      <td>4212.82</td>\n",
              "      <td>4192.82</td>\n",
              "      <td>4271.79</td>\n",
              "      <td>4608.72</td>\n",
              "      <td>4344.10</td>\n",
              "      <td>3</td>\n",
              "    </tr>\n",
              "    <tr>\n",
              "      <th>4</th>\n",
              "      <td>4317.44</td>\n",
              "      <td>3968.72</td>\n",
              "      <td>4260.51</td>\n",
              "      <td>4101.54</td>\n",
              "      <td>4341.54</td>\n",
              "      <td>4600.51</td>\n",
              "      <td>4071.28</td>\n",
              "      <td>4607.69</td>\n",
              "      <td>4191.28</td>\n",
              "      <td>4231.28</td>\n",
              "      <td>4199.49</td>\n",
              "      <td>4282.05</td>\n",
              "      <td>4592.31</td>\n",
              "      <td>4372.82</td>\n",
              "      <td>4</td>\n",
              "    </tr>\n",
              "  </tbody>\n",
              "</table>\n",
              "</div>"
            ],
            "text/plain": [
              "       AF3       F7       F3      FC5  ...       F4       F8      AF4  index\n",
              "0  4296.41  4040.51  4253.33  4124.10  ...  4268.72  4598.46  4342.56      0\n",
              "1  4291.28  3994.36  4247.18  4102.56  ...  4260.51  4593.33  4337.95      1\n",
              "2  4299.49  4019.49  4269.74  4116.41  ...  4280.51  4596.92  4350.26      2\n",
              "3  4280.00  4004.62  4263.59  4120.51  ...  4271.79  4608.72  4344.10      3\n",
              "4  4317.44  3968.72  4260.51  4101.54  ...  4282.05  4592.31  4372.82      4\n",
              "\n",
              "[5 rows x 15 columns]"
            ]
          },
          "metadata": {
            "tags": []
          },
          "execution_count": 21
        }
      ]
    },
    {
      "cell_type": "code",
      "metadata": {
        "id": "9JOnJ67NgSpp",
        "colab_type": "code",
        "outputId": "3cbb88f9-53e8-4424-a110-34e81d8adcf1",
        "colab": {
          "base_uri": "https://localhost:8080/",
          "height": 224
        }
      },
      "source": [
        "#preprocess test data\n",
        "X_test = data_test.copy()\n",
        "index = X_test.pop('index')\n",
        "\n",
        "X_test = pd.DataFrame(feature_scaler.transform(X_test))\n",
        "X_test.columns = data_test.columns[:-1]\n",
        "\n",
        "X_test.head()"
      ],
      "execution_count": 22,
      "outputs": [
        {
          "output_type": "execute_result",
          "data": {
            "text/html": [
              "<div>\n",
              "<style scoped>\n",
              "    .dataframe tbody tr th:only-of-type {\n",
              "        vertical-align: middle;\n",
              "    }\n",
              "\n",
              "    .dataframe tbody tr th {\n",
              "        vertical-align: top;\n",
              "    }\n",
              "\n",
              "    .dataframe thead th {\n",
              "        text-align: right;\n",
              "    }\n",
              "</style>\n",
              "<table border=\"1\" class=\"dataframe\">\n",
              "  <thead>\n",
              "    <tr style=\"text-align: right;\">\n",
              "      <th></th>\n",
              "      <th>AF3</th>\n",
              "      <th>F7</th>\n",
              "      <th>F3</th>\n",
              "      <th>FC5</th>\n",
              "      <th>T7</th>\n",
              "      <th>P7</th>\n",
              "      <th>O1</th>\n",
              "      <th>02</th>\n",
              "      <th>P8</th>\n",
              "      <th>T8</th>\n",
              "      <th>FC6</th>\n",
              "      <th>F4</th>\n",
              "      <th>F8</th>\n",
              "      <th>AF4</th>\n",
              "    </tr>\n",
              "  </thead>\n",
              "  <tbody>\n",
              "    <tr>\n",
              "      <th>0</th>\n",
              "      <td>-0.103077</td>\n",
              "      <td>1.046608</td>\n",
              "      <td>-0.506702</td>\n",
              "      <td>0.072168</td>\n",
              "      <td>-0.004007</td>\n",
              "      <td>-0.088835</td>\n",
              "      <td>0.154276</td>\n",
              "      <td>-0.772271</td>\n",
              "      <td>-0.971812</td>\n",
              "      <td>-1.346811</td>\n",
              "      <td>-0.169859</td>\n",
              "      <td>-0.495161</td>\n",
              "      <td>-0.202948</td>\n",
              "      <td>-0.466549</td>\n",
              "    </tr>\n",
              "    <tr>\n",
              "      <th>1</th>\n",
              "      <td>-0.244195</td>\n",
              "      <td>-0.499673</td>\n",
              "      <td>-0.802616</td>\n",
              "      <td>-0.975478</td>\n",
              "      <td>-0.802839</td>\n",
              "      <td>-0.202532</td>\n",
              "      <td>-0.702932</td>\n",
              "      <td>0.398702</td>\n",
              "      <td>-0.136692</td>\n",
              "      <td>-0.146683</td>\n",
              "      <td>-0.443319</td>\n",
              "      <td>-0.913170</td>\n",
              "      <td>-0.358124</td>\n",
              "      <td>-0.590924</td>\n",
              "    </tr>\n",
              "    <tr>\n",
              "      <th>2</th>\n",
              "      <td>-0.018351</td>\n",
              "      <td>0.342321</td>\n",
              "      <td>0.282880</td>\n",
              "      <td>-0.301852</td>\n",
              "      <td>0.149407</td>\n",
              "      <td>0.849583</td>\n",
              "      <td>-0.237536</td>\n",
              "      <td>0.649974</td>\n",
              "      <td>0.583297</td>\n",
              "      <td>0.140249</td>\n",
              "      <td>0.040053</td>\n",
              "      <td>0.105122</td>\n",
              "      <td>-0.249531</td>\n",
              "      <td>-0.258808</td>\n",
              "    </tr>\n",
              "    <tr>\n",
              "      <th>3</th>\n",
              "      <td>-0.554489</td>\n",
              "      <td>-0.155906</td>\n",
              "      <td>-0.013033</td>\n",
              "      <td>-0.102439</td>\n",
              "      <td>-1.079704</td>\n",
              "      <td>-0.941841</td>\n",
              "      <td>-1.511881</td>\n",
              "      <td>-1.414048</td>\n",
              "      <td>-1.461540</td>\n",
              "      <td>-0.903186</td>\n",
              "      <td>-0.359272</td>\n",
              "      <td>-0.338853</td>\n",
              "      <td>0.107403</td>\n",
              "      <td>-0.425001</td>\n",
              "    </tr>\n",
              "    <tr>\n",
              "      <th>4</th>\n",
              "      <td>0.475423</td>\n",
              "      <td>-1.358756</td>\n",
              "      <td>-0.161230</td>\n",
              "      <td>-1.025087</td>\n",
              "      <td>-0.004007</td>\n",
              "      <td>-1.084378</td>\n",
              "      <td>-0.041630</td>\n",
              "      <td>-0.410047</td>\n",
              "      <td>-0.539931</td>\n",
              "      <td>0.035956</td>\n",
              "      <td>-0.085812</td>\n",
              "      <td>0.183531</td>\n",
              "      <td>-0.388978</td>\n",
              "      <td>0.349848</td>\n",
              "    </tr>\n",
              "  </tbody>\n",
              "</table>\n",
              "</div>"
            ],
            "text/plain": [
              "        AF3        F7        F3  ...        F4        F8       AF4\n",
              "0 -0.103077  1.046608 -0.506702  ... -0.495161 -0.202948 -0.466549\n",
              "1 -0.244195 -0.499673 -0.802616  ... -0.913170 -0.358124 -0.590924\n",
              "2 -0.018351  0.342321  0.282880  ...  0.105122 -0.249531 -0.258808\n",
              "3 -0.554489 -0.155906 -0.013033  ... -0.338853  0.107403 -0.425001\n",
              "4  0.475423 -1.358756 -0.161230  ...  0.183531 -0.388978  0.349848\n",
              "\n",
              "[5 rows x 14 columns]"
            ]
          },
          "metadata": {
            "tags": []
          },
          "execution_count": 22
        }
      ]
    },
    {
      "cell_type": "code",
      "metadata": {
        "id": "59FmqW0OtBib",
        "colab_type": "code",
        "outputId": "eee7a1fe-f876-41f5-dff7-b4da26b6e779",
        "colab": {
          "base_uri": "https://localhost:8080/",
          "height": 34
        }
      },
      "source": [
        "#2 classes -> logistic regression?\n",
        "from sklearn.linear_model import LogisticRegression\n",
        "from sklearn.model_selection import cross_val_score\n",
        "import numpy as np\n",
        "\n",
        "model = LogisticRegression()\n",
        "scores = cross_val_score(model, X_train, y_train)\n",
        "score = np.mean(scores)\n",
        "print('accuracy score for model = {}'.format(score))\n",
        "\n",
        "model.fit(X_train, y_train)\n",
        "predictions = pd.DataFrame(model.predict_proba(X_test))\n",
        "predictions.columns=['0', '1']\n",
        "sample_submission = pd.DataFrame()\n",
        "sample_submission['index'] = index\n",
        "sample_submission['label'] = predictions['1']\n",
        "\n",
        "\n"
      ],
      "execution_count": 23,
      "outputs": [
        {
          "output_type": "stream",
          "text": [
            "accuracy score for model = 0.6205\n"
          ],
          "name": "stdout"
        }
      ]
    },
    {
      "cell_type": "code",
      "metadata": {
        "id": "0PYi2a_oxyi_",
        "colab_type": "code",
        "colab": {
          "base_uri": "https://localhost:8080/",
          "height": 139
        },
        "outputId": "1fbe793e-f8cc-4d11-b370-3d4934e985d7"
      },
      "source": [
        "#XGBoost?\n",
        "from xgboost import XGBRegressor\n",
        "\n",
        "model = XGBRegressor()\n",
        "scores = cross_val_score(model, X_train, y_train)\n",
        "score = np.mean(scores)\n",
        "print(score)\n"
      ],
      "execution_count": 24,
      "outputs": [
        {
          "output_type": "stream",
          "text": [
            "[00:00:51] WARNING: /workspace/src/objective/regression_obj.cu:152: reg:linear is now deprecated in favor of reg:squarederror.\n",
            "[00:00:52] WARNING: /workspace/src/objective/regression_obj.cu:152: reg:linear is now deprecated in favor of reg:squarederror.\n",
            "[00:00:52] WARNING: /workspace/src/objective/regression_obj.cu:152: reg:linear is now deprecated in favor of reg:squarederror.\n",
            "[00:00:52] WARNING: /workspace/src/objective/regression_obj.cu:152: reg:linear is now deprecated in favor of reg:squarederror.\n",
            "[00:00:52] WARNING: /workspace/src/objective/regression_obj.cu:152: reg:linear is now deprecated in favor of reg:squarederror.\n",
            "0.41161151013929764\n"
          ],
          "name": "stdout"
        }
      ]
    },
    {
      "cell_type": "code",
      "metadata": {
        "id": "9F0cYBVbGhw8",
        "colab_type": "code",
        "colab": {
          "base_uri": "https://localhost:8080/",
          "height": 34
        },
        "outputId": "0b25d4f0-3433-4b4b-d464-18e10ba01b86"
      },
      "source": [
        "#Decision Tree?\n",
        "from sklearn.tree import DecisionTreeClassifier\n",
        "\n",
        "model = DecisionTreeClassifier()\n",
        "scores = cross_val_score(model, X_train, y_train)\n",
        "score = np.mean(scores)\n",
        "print(score)"
      ],
      "execution_count": 28,
      "outputs": [
        {
          "output_type": "stream",
          "text": [
            "0.742\n"
          ],
          "name": "stdout"
        }
      ]
    },
    {
      "cell_type": "code",
      "metadata": {
        "id": "yCGCU-CZGyFL",
        "colab_type": "code",
        "colab": {
          "base_uri": "https://localhost:8080/",
          "height": 34
        },
        "outputId": "12abe086-c895-4628-aa63-2aaf9cc85c21"
      },
      "source": [
        "#Naive Bayes?\n",
        "from sklearn.naive_bayes import GaussianNB\n",
        "\n",
        "model = GaussianNB()\n",
        "scores = cross_val_score(model, X_train, y_train)\n",
        "score = np.mean(scores)\n",
        "print(score)"
      ],
      "execution_count": 29,
      "outputs": [
        {
          "output_type": "stream",
          "text": [
            "0.6040000000000001\n"
          ],
          "name": "stdout"
        }
      ]
    },
    {
      "cell_type": "code",
      "metadata": {
        "id": "kDS5416OH-Mz",
        "colab_type": "code",
        "colab": {
          "base_uri": "https://localhost:8080/",
          "height": 34
        },
        "outputId": "d5d9a065-e6aa-4616-c08a-42b9ce20bb40"
      },
      "source": [
        "#K\n",
        "from sklearn.neighbors import KNeighborsClassifier\n",
        "\n",
        "model = KNeighborsClassifier()\n",
        "scores = cross_val_score(model, X_train, y_train)\n",
        "score = np.mean(scores)\n",
        "print(score)"
      ],
      "execution_count": 31,
      "outputs": [
        {
          "output_type": "stream",
          "text": [
            "0.866\n"
          ],
          "name": "stdout"
        }
      ]
    },
    {
      "cell_type": "code",
      "metadata": {
        "id": "yBN9JhFXCx1A",
        "colab_type": "code",
        "colab": {
          "base_uri": "https://localhost:8080/",
          "height": 34
        },
        "outputId": "b26689ec-fd59-4857-e970-357c6c3d8254"
      },
      "source": [
        "#RandomForest?\n",
        "from sklearn.ensemble import RandomForestRegressor\n",
        "\n",
        "model = RandomForestRegressor()\n",
        "scores = cross_val_score(model, X_train, y_train)\n",
        "score = np.mean(scores)\n",
        "print(score)\n"
      ],
      "execution_count": 26,
      "outputs": [
        {
          "output_type": "stream",
          "text": [
            "0.5009095288670848\n"
          ],
          "name": "stdout"
        }
      ]
    },
    {
      "cell_type": "code",
      "metadata": {
        "id": "lAZjp12kEOHi",
        "colab_type": "code",
        "colab": {
          "base_uri": "https://localhost:8080/",
          "height": 34
        },
        "outputId": "32598260-b473-498b-d452-a01a2efce2a0"
      },
      "source": [
        "#support vector machines\n",
        "from sklearn.svm import SVC\n",
        "\n",
        "clf = SVC(kernel='linear')\n",
        "scores = cross_val_score(clf, X_train, y_train)\n",
        "score = np.mean(scores)\n",
        "print(score)\n"
      ],
      "execution_count": 27,
      "outputs": [
        {
          "output_type": "stream",
          "text": [
            "0.6399999999999999\n"
          ],
          "name": "stdout"
        }
      ]
    },
    {
      "cell_type": "code",
      "metadata": {
        "id": "ze5Idex_HE2p",
        "colab_type": "code",
        "colab": {}
      },
      "source": [
        "#All models grouped together\n",
        "models = dict()\n",
        "models['dec_tr'] = DecisionTreeClassifier()\n",
        "models['log_re'] = LogisticRegression()\n",
        "models['SVM'] = SVC()\n",
        "models['nai_ba'] = GaussianNB()\n",
        "models['K_nei'] = KNeighborsClassifier()\n",
        "\n"
      ],
      "execution_count": 0,
      "outputs": []
    },
    {
      "cell_type": "code",
      "metadata": {
        "id": "bKUZhZ3gIhij",
        "colab_type": "code",
        "colab": {
          "base_uri": "https://localhost:8080/",
          "height": 102
        },
        "outputId": "6ae2bd68-bf21-4c1d-c630-6cdc88385781"
      },
      "source": [
        "#All models are evaluated\n",
        "for name, model in models.items():\n",
        "  results = list()\n",
        "  names = list()\n",
        "  score = cross_val_score(model, X_train, y_train)\n",
        "  results.append(score)\n",
        "  names.append(name)\n",
        "  print('>%s %.3f (%.3f)' %(name, np.mean(scores), np.std(scores)))"
      ],
      "execution_count": 40,
      "outputs": [
        {
          "output_type": "stream",
          "text": [
            ">dec_tr 0.866 (0.012)\n",
            ">log_re 0.866 (0.012)\n",
            ">SVM 0.866 (0.012)\n",
            ">nai_ba 0.866 (0.012)\n",
            ">K_nei 0.866 (0.012)\n"
          ],
          "name": "stdout"
        }
      ]
    },
    {
      "cell_type": "markdown",
      "metadata": {
        "id": "w7AHk-3elWpy",
        "colab_type": "text"
      },
      "source": [
        "Make sure to save your results without the extra Pandas index column that is written by default:"
      ]
    },
    {
      "cell_type": "code",
      "metadata": {
        "id": "9ny3rYGokLiV",
        "colab_type": "code",
        "colab": {}
      },
      "source": [
        "filename = \"my_prediction_results.csv\"\n",
        "\n",
        "#make sure to not write the Pandas index column (index=False)\n",
        "sample_submission.to_csv(filename,index=False)"
      ],
      "execution_count": 0,
      "outputs": []
    }
  ]
}